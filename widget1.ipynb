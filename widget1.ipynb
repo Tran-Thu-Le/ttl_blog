{
  "nbformat": 4,
  "nbformat_minor": 0,
  "metadata": {
    "colab": {
      "name": "Untitled0.ipynb",
      "provenance": [],
      "authorship_tag": "ABX9TyMLacEBdaNP5Qx36eKzzrdk",
      "include_colab_link": true
    },
    "kernelspec": {
      "name": "python3",
      "display_name": "Python 3"
    },
    "widgets": {
      "application/vnd.jupyter.widget-state+json": {
        "f08e2ba579a34b739d4ac774960c8586": {
          "model_module": "@jupyter-widgets/controls",
          "model_name": "VBoxModel",
          "state": {
            "_view_name": "VBoxView",
            "_dom_classes": [
              "widget-interact"
            ],
            "_model_name": "VBoxModel",
            "_view_module": "@jupyter-widgets/controls",
            "_model_module_version": "1.5.0",
            "_view_count": null,
            "_view_module_version": "1.5.0",
            "box_style": "",
            "layout": "IPY_MODEL_849f070bac7646879c8c0e41f084bcd9",
            "_model_module": "@jupyter-widgets/controls",
            "children": [
              "IPY_MODEL_48330da39c104a5494e5c7e2dabffb52",
              "IPY_MODEL_c72888403b9144abb62a43cbff2b30fb",
              "IPY_MODEL_694a150e9cb54030b297bf918c6d3421"
            ]
          }
        },
        "849f070bac7646879c8c0e41f084bcd9": {
          "model_module": "@jupyter-widgets/base",
          "model_name": "LayoutModel",
          "state": {
            "_view_name": "LayoutView",
            "grid_template_rows": null,
            "right": null,
            "justify_content": null,
            "_view_module": "@jupyter-widgets/base",
            "overflow": null,
            "_model_module_version": "1.2.0",
            "_view_count": null,
            "flex_flow": null,
            "width": null,
            "min_width": null,
            "border": null,
            "align_items": null,
            "bottom": null,
            "_model_module": "@jupyter-widgets/base",
            "top": null,
            "grid_column": null,
            "overflow_y": null,
            "overflow_x": null,
            "grid_auto_flow": null,
            "grid_area": null,
            "grid_template_columns": null,
            "flex": null,
            "_model_name": "LayoutModel",
            "justify_items": null,
            "grid_row": null,
            "max_height": null,
            "align_content": null,
            "visibility": null,
            "align_self": null,
            "height": null,
            "min_height": null,
            "padding": null,
            "grid_auto_rows": null,
            "grid_gap": null,
            "max_width": null,
            "order": null,
            "_view_module_version": "1.2.0",
            "grid_template_areas": null,
            "object_position": null,
            "object_fit": null,
            "grid_auto_columns": null,
            "margin": null,
            "display": null,
            "left": null
          }
        },
        "48330da39c104a5494e5c7e2dabffb52": {
          "model_module": "@jupyter-widgets/controls",
          "model_name": "FloatSliderModel",
          "state": {
            "_view_name": "FloatSliderView",
            "style": "IPY_MODEL_1ad2d06b1692480196213d6fcd6e7ec3",
            "_dom_classes": [],
            "description": "p",
            "step": 0.1,
            "_model_name": "FloatSliderModel",
            "orientation": "horizontal",
            "max": 1,
            "_view_module": "@jupyter-widgets/controls",
            "_model_module_version": "1.5.0",
            "value": 0.7,
            "_view_count": null,
            "disabled": false,
            "_view_module_version": "1.5.0",
            "min": 0,
            "continuous_update": true,
            "readout_format": ".2f",
            "description_tooltip": null,
            "readout": true,
            "_model_module": "@jupyter-widgets/controls",
            "layout": "IPY_MODEL_9b2d91c6bded4d0e9bf3848532d699f6"
          }
        },
        "c72888403b9144abb62a43cbff2b30fb": {
          "model_module": "@jupyter-widgets/controls",
          "model_name": "FloatSliderModel",
          "state": {
            "_view_name": "FloatSliderView",
            "style": "IPY_MODEL_7620a5eb5caa4b9cb746062a0ce181a2",
            "_dom_classes": [],
            "description": "w",
            "step": 0.1,
            "_model_name": "FloatSliderModel",
            "orientation": "horizontal",
            "max": 0.5,
            "_view_module": "@jupyter-widgets/controls",
            "_model_module_version": "1.5.0",
            "value": 0.2,
            "_view_count": null,
            "disabled": false,
            "_view_module_version": "1.5.0",
            "min": 0.1,
            "continuous_update": true,
            "readout_format": ".2f",
            "description_tooltip": null,
            "readout": true,
            "_model_module": "@jupyter-widgets/controls",
            "layout": "IPY_MODEL_e7aa9317b6ea4101a3610672b9909776"
          }
        },
        "694a150e9cb54030b297bf918c6d3421": {
          "model_module": "@jupyter-widgets/output",
          "model_name": "OutputModel",
          "state": {
            "_view_name": "OutputView",
            "msg_id": "",
            "_dom_classes": [],
            "_model_name": "OutputModel",
            "outputs": [
              {
                "output_type": "display_data",
                "metadata": {
                  "tags": [],
                  "needs_background": "light"
                },
                "image/png": "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\n",
                "text/plain": "<Figure size 432x288 with 1 Axes>"
              }
            ],
            "_view_module": "@jupyter-widgets/output",
            "_model_module_version": "1.0.0",
            "_view_count": null,
            "_view_module_version": "1.0.0",
            "layout": "IPY_MODEL_3c410a69227947568e6cdf48274d9d0d",
            "_model_module": "@jupyter-widgets/output"
          }
        },
        "1ad2d06b1692480196213d6fcd6e7ec3": {
          "model_module": "@jupyter-widgets/controls",
          "model_name": "SliderStyleModel",
          "state": {
            "_view_name": "StyleView",
            "handle_color": null,
            "_model_name": "SliderStyleModel",
            "description_width": "",
            "_view_module": "@jupyter-widgets/base",
            "_model_module_version": "1.5.0",
            "_view_count": null,
            "_view_module_version": "1.2.0",
            "_model_module": "@jupyter-widgets/controls"
          }
        },
        "9b2d91c6bded4d0e9bf3848532d699f6": {
          "model_module": "@jupyter-widgets/base",
          "model_name": "LayoutModel",
          "state": {
            "_view_name": "LayoutView",
            "grid_template_rows": null,
            "right": null,
            "justify_content": null,
            "_view_module": "@jupyter-widgets/base",
            "overflow": null,
            "_model_module_version": "1.2.0",
            "_view_count": null,
            "flex_flow": null,
            "width": null,
            "min_width": null,
            "border": null,
            "align_items": null,
            "bottom": null,
            "_model_module": "@jupyter-widgets/base",
            "top": null,
            "grid_column": null,
            "overflow_y": null,
            "overflow_x": null,
            "grid_auto_flow": null,
            "grid_area": null,
            "grid_template_columns": null,
            "flex": null,
            "_model_name": "LayoutModel",
            "justify_items": null,
            "grid_row": null,
            "max_height": null,
            "align_content": null,
            "visibility": null,
            "align_self": null,
            "height": null,
            "min_height": null,
            "padding": null,
            "grid_auto_rows": null,
            "grid_gap": null,
            "max_width": null,
            "order": null,
            "_view_module_version": "1.2.0",
            "grid_template_areas": null,
            "object_position": null,
            "object_fit": null,
            "grid_auto_columns": null,
            "margin": null,
            "display": null,
            "left": null
          }
        },
        "7620a5eb5caa4b9cb746062a0ce181a2": {
          "model_module": "@jupyter-widgets/controls",
          "model_name": "SliderStyleModel",
          "state": {
            "_view_name": "StyleView",
            "handle_color": null,
            "_model_name": "SliderStyleModel",
            "description_width": "",
            "_view_module": "@jupyter-widgets/base",
            "_model_module_version": "1.5.0",
            "_view_count": null,
            "_view_module_version": "1.2.0",
            "_model_module": "@jupyter-widgets/controls"
          }
        },
        "e7aa9317b6ea4101a3610672b9909776": {
          "model_module": "@jupyter-widgets/base",
          "model_name": "LayoutModel",
          "state": {
            "_view_name": "LayoutView",
            "grid_template_rows": null,
            "right": null,
            "justify_content": null,
            "_view_module": "@jupyter-widgets/base",
            "overflow": null,
            "_model_module_version": "1.2.0",
            "_view_count": null,
            "flex_flow": null,
            "width": null,
            "min_width": null,
            "border": null,
            "align_items": null,
            "bottom": null,
            "_model_module": "@jupyter-widgets/base",
            "top": null,
            "grid_column": null,
            "overflow_y": null,
            "overflow_x": null,
            "grid_auto_flow": null,
            "grid_area": null,
            "grid_template_columns": null,
            "flex": null,
            "_model_name": "LayoutModel",
            "justify_items": null,
            "grid_row": null,
            "max_height": null,
            "align_content": null,
            "visibility": null,
            "align_self": null,
            "height": null,
            "min_height": null,
            "padding": null,
            "grid_auto_rows": null,
            "grid_gap": null,
            "max_width": null,
            "order": null,
            "_view_module_version": "1.2.0",
            "grid_template_areas": null,
            "object_position": null,
            "object_fit": null,
            "grid_auto_columns": null,
            "margin": null,
            "display": null,
            "left": null
          }
        },
        "3c410a69227947568e6cdf48274d9d0d": {
          "model_module": "@jupyter-widgets/base",
          "model_name": "LayoutModel",
          "state": {
            "_view_name": "LayoutView",
            "grid_template_rows": null,
            "right": null,
            "justify_content": null,
            "_view_module": "@jupyter-widgets/base",
            "overflow": null,
            "_model_module_version": "1.2.0",
            "_view_count": null,
            "flex_flow": null,
            "width": null,
            "min_width": null,
            "border": null,
            "align_items": null,
            "bottom": null,
            "_model_module": "@jupyter-widgets/base",
            "top": null,
            "grid_column": null,
            "overflow_y": null,
            "overflow_x": null,
            "grid_auto_flow": null,
            "grid_area": null,
            "grid_template_columns": null,
            "flex": null,
            "_model_name": "LayoutModel",
            "justify_items": null,
            "grid_row": null,
            "max_height": null,
            "align_content": null,
            "visibility": null,
            "align_self": null,
            "height": null,
            "min_height": null,
            "padding": null,
            "grid_auto_rows": null,
            "grid_gap": null,
            "max_width": null,
            "order": null,
            "_view_module_version": "1.2.0",
            "grid_template_areas": null,
            "object_position": null,
            "object_fit": null,
            "grid_auto_columns": null,
            "margin": null,
            "display": null,
            "left": null
          }
        }
      }
    }
  },
  "cells": [
    {
      "cell_type": "markdown",
      "metadata": {
        "id": "view-in-github",
        "colab_type": "text"
      },
      "source": [
        "<a href=\"https://colab.research.google.com/github/Tran-Thu-Le/ttlblog/blob/main/widget1.ipynb\" target=\"_parent\"><img src=\"https://colab.research.google.com/assets/colab-badge.svg\" alt=\"Open In Colab\"/></a>"
      ]
    },
    {
      "cell_type": "code",
      "metadata": {
        "colab": {
          "base_uri": "https://localhost:8080/",
          "height": 329,
          "referenced_widgets": [
            "f08e2ba579a34b739d4ac774960c8586",
            "849f070bac7646879c8c0e41f084bcd9",
            "48330da39c104a5494e5c7e2dabffb52",
            "c72888403b9144abb62a43cbff2b30fb",
            "694a150e9cb54030b297bf918c6d3421",
            "1ad2d06b1692480196213d6fcd6e7ec3",
            "9b2d91c6bded4d0e9bf3848532d699f6",
            "7620a5eb5caa4b9cb746062a0ce181a2",
            "e7aa9317b6ea4101a3610672b9909776",
            "3c410a69227947568e6cdf48274d9d0d"
          ]
        },
        "id": "XO5ogfpcVl6w",
        "outputId": "2e63b3fb-6fa7-48f9-a2a6-e08cdf75da60"
      },
      "source": [
        "from ipywidgets import interactive\n",
        "from IPython.display import display\n",
        "import numpy as np\n",
        "import matplotlib.pyplot as plt\n",
        "\n",
        "def gauss(p, w):\n",
        "    x=np.linspace(0.0, 1.0, 100)\n",
        "    y=2**(-(x-p)**2/w**2)\n",
        "    plt.plot(x, y)\n",
        "    plt.show()\n",
        "\n",
        "g=interactive(gauss, p=(0.0,1.0), w=(0.1, 0.5))\n",
        "display(g)"
      ],
      "execution_count": 1,
      "outputs": [
        {
          "output_type": "display_data",
          "data": {
            "application/vnd.jupyter.widget-view+json": {
              "model_id": "f08e2ba579a34b739d4ac774960c8586",
              "version_minor": 0,
              "version_major": 2
            },
            "text/plain": [
              "interactive(children=(FloatSlider(value=0.5, description='p', max=1.0), FloatSlider(value=0.30000000000000004,…"
            ]
          },
          "metadata": {
            "tags": []
          }
        }
      ]
    }
  ]
}