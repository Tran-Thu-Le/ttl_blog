{
  "nbformat": 4,
  "nbformat_minor": 0,
  "metadata": {
    "colab": {
      "name": "211001 intersection of ellipses",
      "provenance": [],
      "collapsed_sections": [],
      "include_colab_link": true
    },
    "kernelspec": {
      "display_name": "Python 3",
      "name": "python3"
    }
  },
  "cells": [
    {
      "cell_type": "markdown",
      "metadata": {
        "id": "view-in-github",
        "colab_type": "text"
      },
      "source": [
        "<a href=\"https://colab.research.google.com/github/Tran-Thu-Le/ttlblog/blob/main/math/ellipse/211001_intersection_of_ellipses.ipynb\" target=\"_parent\"><img src=\"https://colab.research.google.com/assets/colab-badge.svg\" alt=\"Open In Colab\"/></a>"
      ]
    },
    {
      "cell_type": "code",
      "metadata": {
        "id": "zkXtndHh-caT"
      },
      "source": [
        "import torch \n",
        "import matplotlib.pyplot as plt\n",
        "import seaborn as sns\n",
        "sns.set_theme() \n",
        "from math import pi\n"
      ],
      "execution_count": 1,
      "outputs": []
    },
    {
      "cell_type": "code",
      "metadata": {
        "id": "t7-w8MljfaiW"
      },
      "source": [
        "\n",
        "class Ellipse:\n",
        "\n",
        "    def __init__(self, center, matrix):\n",
        "        m = matrix.shape[0]\n",
        "        assert matrix.shape==(m, m) and center.shape ==(m, 1)\n",
        "        assert matrix.dtype==torch.float64 and center.dtype == torch.float64\n",
        "        self.center = center \n",
        "        self.matrix = matrix \n",
        "        eigs, vecs = torch.linalg.eig(self.matrix)\n",
        "        self.eigs = eigs.real\n",
        "        self.vecs = vecs.real\n",
        "        self.dim = m\n",
        "    \n",
        "    # ATTRIBUTES\n",
        "    def mat_sqrt(self):\n",
        "        return self.vecs @ torch.diag(self.eigs.sqrt()) @ self.vecs.T\n",
        "\n",
        "    def mat_inv(self):\n",
        "        return self.vecs @ torch.diag(1/self.eigs) @ self.vecs.T\n",
        "\n",
        "    def radius(self):\n",
        "        return self.eigs.max().sqrt()\n",
        "\n",
        "    def volume(self):\n",
        "        logdet = torch.logdet(self.matrix)\n",
        "        m = self.matrix.shape[0]\n",
        "        log_beta_n = .5 * m * torch.log(torch.tensor(pi)) - torch.lgamma(torch.tensor(.5 * m + 1.)) \n",
        "        out = torch.exp( log_beta_n + .5 * logdet )\n",
        "        return out\n",
        "\n",
        "    def balance(self):\n",
        "        return self.eigs.max().sqrt() - self.eigs.min().sqrt()\n",
        "\n",
        "    # TOOLS    \n",
        "    def new_ellipse(self, g, lbd):\n",
        "        c = self.center \n",
        "        mat = self.matrix \n",
        "\n",
        "        m = mat.shape[0]\n",
        "        g_norm_2 = (g * (mat @ g)).sum()\n",
        "        g_norm = g_norm_2.sqrt()\n",
        "        h =  (g.T @ c).squeeze()-lbd\n",
        "        alpha = h/g_norm \n",
        "        # print(f\"ellipse 14: h={h} g_norm^2={g_norm_2} g_norm={g_norm} alpha={alpha}\")\n",
        "        if alpha.abs()<=1.:\n",
        "            g_bar = g/g_norm \n",
        "            delta_1 = (1+alpha*m)/(m+1)\n",
        "            delta_2 = (m**2*(1-alpha**2))/(m**2-1)\n",
        "            delta_3 = (2*(1+alpha*m))/((m+1)*(1+alpha))\n",
        "            c2 = c - delta_1 * mat @ g_bar\n",
        "            g_mat = g_bar @ g_bar.T\n",
        "            mat2 = delta_2*(mat - delta_3 * mat @ g_mat @ mat)\n",
        "            ell =  Ellipse(c2, mat2)\n",
        "            ell.alpha = alpha\n",
        "            infor = {\n",
        "                \"alpha\": alpha,\n",
        "                \"change\": True,\n",
        "            }\n",
        "            return ell, infor\n",
        "        else:\n",
        "            infor = {\n",
        "                \"alpha\": alpha,\n",
        "                \"change\": False,\n",
        "            }\n",
        "            return self, infor\n",
        "\n",
        "    def get_point(self, p):\n",
        "        \"\"\"\n",
        "            get the intersection point of ellipse\n",
        "            and segment joining p and ellipse's center.\n",
        "        \"\"\"\n",
        "        assert p.shape==(self.dim, 1) \n",
        "        g = p - self.center \n",
        "        vec = g/ (g * (self.mat_inv() @ g)).sum().sqrt()\n",
        "        return self.center + vec \n",
        "\n",
        "    def get_tangent_plane(self, p):\n",
        "        \"\"\"\n",
        "            p must be a tangent point\n",
        "        \"\"\"\n",
        "        assert p.shape==(self.dim, 1)\n",
        "        g = self.mat_inv() @ (p-self.center)\n",
        "        level = 1. + (g*self.center).sum()\n",
        "        return g, level\n",
        "\n",
        "    def intersect_ellipse(self, ell):\n",
        "        assert self.dim == ell.dim \n",
        "        point = ell.get_point(self.center)\n",
        "        g, level = ell.get_tangent_plane(point)\n",
        "        ell_new, _ = self.new_ellipse(g, level)\n",
        "        return ell_new\n",
        "\n",
        "    # 2D PLOTTING TOOLs\n",
        "    def plot_tangent_plane(self, p, ax, xmin, xmax, **kwargs):\n",
        "        \"\"\"\n",
        "            p must be a tangent point\n",
        "        \"\"\"\n",
        "        g, level = self.get_tangent_plane(p)\n",
        "        a = (level-g[0][0]*xmin)/g[1][0]\n",
        "        b = (level-g[0][0]*xmax)/g[1][0]\n",
        "        ax.plot([xmin, xmax], [a, b], **kwargs)\n",
        "\n",
        "    def plot(self, ax, **kwargs):\n",
        "        t = 2*pi*torch.linspace(0., 1., 100, dtype = torch.float64)\n",
        "        x, y = torch.cos(t), torch.sin(t)\n",
        "        x2, y2 = self.center + self.mat_sqrt() @ torch.cat([x, y]).reshape(2, -1)\n",
        "        ax.plot(x2, y2, **kwargs)\n"
      ],
      "execution_count": 2,
      "outputs": []
    },
    {
      "cell_type": "code",
      "metadata": {
        "colab": {
          "base_uri": "https://localhost:8080/",
          "height": 268
        },
        "id": "_QearuQ-ffB-",
        "outputId": "eca12bf8-fdf5-483b-ff0a-b30c134e7b7d"
      },
      "source": [
        "def test():\n",
        "    alpha = torch.tensor(2*pi/6, dtype=torch.float64 )\n",
        "    cos, sin = torch.cos(alpha), torch.sin(alpha)\n",
        "    U = torch.tensor([[cos, -sin], [sin, cos]])\n",
        "    D = torch.tensor([[4., 0.], [0., 1.]], dtype=torch.float64 )\n",
        "    P = U @ D @ U.T \n",
        "    c = torch.tensor([[0.], [0.]] , dtype=torch.float64 )\n",
        "    ell = Ellipse(c, P)\n",
        "\n",
        "    alpha = torch.tensor(2*pi/3, dtype=torch.float64 )\n",
        "    cos, sin = torch.cos(alpha), torch.sin(alpha)\n",
        "    U = torch.tensor([[cos, -sin], [sin, cos]])\n",
        "    D = torch.tensor([[2., 0.], [0., 1.]], dtype=torch.float64 )\n",
        "    P = U @ D @ U.T \n",
        "    c = torch.tensor([[1.], [2.]] , dtype=torch.float64 )\n",
        "    ell2 = Ellipse(c, P)\n",
        "\n",
        "    # intersection ellipse\n",
        "    point  = ell2.get_point(ell.center)\n",
        "    g, level = ell2.get_tangent_plane(point)\n",
        "\n",
        "    ell3 = ell.intersect_ellipse(ell2)\n",
        "    ell4 = ell2.intersect_ellipse(ell)\n",
        "\n",
        "    ell5 = ell3.intersect_ellipse(ell4)\n",
        "    ell6 = ell4.intersect_ellipse(ell3)\n",
        "\n",
        "\n",
        "    f, ax = plt.subplots()\n",
        "    ell.plot(ax)\n",
        "    ell2.plot(ax)\n",
        "    ell3.plot(ax, label=\"ellipse 3\", ls=\"--\")\n",
        "    # ell4.plot(ax, label=\"ellipse 4\", ls=\"-.\")\n",
        "    # ell5.plot(ax, label=\"ellipse 5\", ls=\"-\")\n",
        "    # ell6.plot(ax, label=\"ellipse 6\", ls=\"-\")\n",
        "    ell2.plot_tangent_plane(point, ax, xmin=-0.5, xmax=1.5, label=\"tangent plane\")\n",
        "\n",
        "    x1, y1 = ell.center.reshape(-1)\n",
        "    x2, y2 = ell2.center.reshape(-1)\n",
        "    plt.scatter([x1, x2], [y1, y2], label=\"centers\")\n",
        "    plt.plot([x1, x2], [y1, y2])\n",
        "\n",
        "    plt.legend()\n",
        "    plt.show()\n",
        "\n",
        "\n",
        "test()"
      ],
      "execution_count": 3,
      "outputs": [
        {
          "output_type": "display_data",
          "data": {
            "image/png": "[encoded data removed]",
            "text/plain": [
              "<Figure size 432x288 with 1 Axes>"
            ]
          },
          "metadata": {
            "needs_background": "light"
          }
        }
      ]
    }
  ]
}