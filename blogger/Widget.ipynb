{
  "nbformat": 4,
  "nbformat_minor": 0,
  "metadata": {
    "colab": {
      "name": "Colaboratory chào mừng bạn!",
      "provenance": [],
      "collapsed_sections": [],
      "include_colab_link": true
    },
    "kernelspec": {
      "display_name": "Python 3",
      "name": "python3"
    }
  },
  "cells": [
    {
      "cell_type": "markdown",
      "metadata": {
        "id": "view-in-github",
        "colab_type": "text"
      },
      "source": [
        "<a href=\"https://colab.research.google.com/github/Tran-Thu-Le/ttlblog/blob/main/blogger/Widget.ipynb\" target=\"_parent\"><img src=\"https://colab.research.google.com/assets/colab-badge.svg\" alt=\"Open In Colab\"/></a>"
      ]
    },
    {
      "cell_type": "markdown",
      "metadata": {
        "id": "5fCEDCU_qrC0"
      },
      "source": [
        "<h1>Widget for blog using Python</h1>"
      ]
    },
    {
      "cell_type": "markdown",
      "metadata": {
        "id": "RyOiopv-uMYg"
      },
      "source": [
        "## Widget with `ipython`"
      ]
    },
    {
      "cell_type": "markdown",
      "metadata": {
        "id": "q6wJyVh1OY3t"
      },
      "source": [
        "For more information see: [widget](https://ipywidgets.readthedocs.io/en/stable/examples/Using%20Interact.html) and [embed](https://ipywidgets.readthedocs.io/en/stable/embedding.html)."
      ]
    },
    {
      "cell_type": "code",
      "metadata": {
        "colab": {
          "base_uri": "https://localhost:8080/"
        },
        "id": "nrgP_uO7uLgJ",
        "outputId": "fb72d344-9f4b-45f0-800b-1f1736d8b21a"
      },
      "source": [
        "%matplotlib inline\r\n",
        "import numpy as np\r\n",
        "import matplotlib.pyplot as plt\r\n",
        "\r\n",
        "def plot(amplitude, color):\r\n",
        "    fig, ax = plt.subplots(figsize=(4, 3),\r\n",
        "                           subplot_kw={'axisbg':'#EEEEEE',\r\n",
        "                                       'axisbelow':True})\r\n",
        "    ax.grid(color='w', linewidth=2, linestyle='solid')\r\n",
        "    x = np.linspace(0, 10, 1000)\r\n",
        "    ax.plot(x, amplitude * np.sin(x), color=color,\r\n",
        "            lw=5, alpha=0.4)\r\n",
        "    ax.set_xlim(0, 10)\r\n",
        "    ax.set_ylim(-1.1, 1.1)\r\n",
        "    return fig\r\n",
        "\r\n",
        "from ipywidgets import interact, interactive, fixed, interact_manual\r\n",
        "import ipywidgets as widgets\r\n",
        "print(\"hello\")\r\n",
        "\r\n",
        "#from ipywidgets import StaticInteract, RangeWidget, RadioWidget\r\n",
        "\r\n",
        "#StaticInteract(plot,\r\n",
        "#               amplitude=RangeWidget(0.1, 1.0, 0.1),\r\n",
        "#               color=RadioWidget(['blue', 'green', 'red']))"
      ],
      "execution_count": 6,
      "outputs": [
        {
          "output_type": "stream",
          "text": [
            "hello\n"
          ],
          "name": "stdout"
        }
      ]
    }
  ]
}