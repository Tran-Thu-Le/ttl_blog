{
  "nbformat": 4,
  "nbformat_minor": 0,
  "metadata": {
    "colab": {
      "name": "Colaboratory chào mừng bạn!",
      "provenance": [],
      "collapsed_sections": [],
      "include_colab_link": true
    },
    "kernelspec": {
      "display_name": "Python 3",
      "name": "python3"
    },
    "widgets": {
      "application/vnd.jupyter.widget-state+json": {
        "4137fde16a4348febe6c763cb36cf882": {
          "model_module": "@jupyter-widgets/controls",
          "model_name": "VBoxModel",
          "state": {
            "_view_name": "VBoxView",
            "_dom_classes": [
              "widget-interact"
            ],
            "_model_name": "VBoxModel",
            "_view_module": "@jupyter-widgets/controls",
            "_model_module_version": "1.5.0",
            "_view_count": null,
            "_view_module_version": "1.5.0",
            "box_style": "",
            "layout": "IPY_MODEL_4b205ad7aca64f9fbe02c1e5005c9af6",
            "_model_module": "@jupyter-widgets/controls",
            "children": [
              "IPY_MODEL_cc35a979659543aea51bb78d0c3e92cc",
              "IPY_MODEL_2b749238d22e491f883df3fcd2ce484f",
              "IPY_MODEL_c67bb23df04746318445f514a7636b2e"
            ]
          }
        },
        "4b205ad7aca64f9fbe02c1e5005c9af6": {
          "model_module": "@jupyter-widgets/base",
          "model_name": "LayoutModel",
          "state": {
            "_view_name": "LayoutView",
            "grid_template_rows": null,
            "right": null,
            "justify_content": null,
            "_view_module": "@jupyter-widgets/base",
            "overflow": null,
            "_model_module_version": "1.2.0",
            "_view_count": null,
            "flex_flow": null,
            "width": null,
            "min_width": null,
            "border": null,
            "align_items": null,
            "bottom": null,
            "_model_module": "@jupyter-widgets/base",
            "top": null,
            "grid_column": null,
            "overflow_y": null,
            "overflow_x": null,
            "grid_auto_flow": null,
            "grid_area": null,
            "grid_template_columns": null,
            "flex": null,
            "_model_name": "LayoutModel",
            "justify_items": null,
            "grid_row": null,
            "max_height": null,
            "align_content": null,
            "visibility": null,
            "align_self": null,
            "height": null,
            "min_height": null,
            "padding": null,
            "grid_auto_rows": null,
            "grid_gap": null,
            "max_width": null,
            "order": null,
            "_view_module_version": "1.2.0",
            "grid_template_areas": null,
            "object_position": null,
            "object_fit": null,
            "grid_auto_columns": null,
            "margin": null,
            "display": null,
            "left": null
          }
        },
        "cc35a979659543aea51bb78d0c3e92cc": {
          "model_module": "@jupyter-widgets/controls",
          "model_name": "FloatSliderModel",
          "state": {
            "_view_name": "FloatSliderView",
            "style": "IPY_MODEL_ab056476e89c471683d1a3f1d69c0612",
            "_dom_classes": [],
            "description": "center",
            "step": 0.5,
            "_model_name": "FloatSliderModel",
            "orientation": "horizontal",
            "max": 5,
            "_view_module": "@jupyter-widgets/controls",
            "_model_module_version": "1.5.0",
            "value": 3.5,
            "_view_count": null,
            "disabled": false,
            "_view_module_version": "1.5.0",
            "min": -5,
            "continuous_update": true,
            "readout_format": ".2f",
            "description_tooltip": null,
            "readout": true,
            "_model_module": "@jupyter-widgets/controls",
            "layout": "IPY_MODEL_7001d74d395b4a28b1796f8886855b5a"
          }
        },
        "2b749238d22e491f883df3fcd2ce484f": {
          "model_module": "@jupyter-widgets/controls",
          "model_name": "FloatSliderModel",
          "state": {
            "_view_name": "FloatSliderView",
            "style": "IPY_MODEL_a269ea8725fd4564860ae4f08c05f064",
            "_dom_classes": [],
            "description": "width",
            "step": 0.5,
            "_model_name": "FloatSliderModel",
            "orientation": "horizontal",
            "max": 5,
            "_view_module": "@jupyter-widgets/controls",
            "_model_module_version": "1.5.0",
            "value": 2,
            "_view_count": null,
            "disabled": false,
            "_view_module_version": "1.5.0",
            "min": 0,
            "continuous_update": true,
            "readout_format": ".2f",
            "description_tooltip": null,
            "readout": true,
            "_model_module": "@jupyter-widgets/controls",
            "layout": "IPY_MODEL_99f75f5eb8b24adabc7d22a88cf8fe45"
          }
        },
        "c67bb23df04746318445f514a7636b2e": {
          "model_module": "@jupyter-widgets/output",
          "model_name": "OutputModel",
          "state": {
            "_view_name": "OutputView",
            "msg_id": "",
            "_dom_classes": [],
            "_model_name": "OutputModel",
            "outputs": [
              {
                "output_type": "display_data",
                "metadata": {
                  "tags": [],
                  "needs_background": "light"
                },
                "image/png": "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\n",
                "text/plain": "<Figure size 432x288 with 1 Axes>"
              }
            ],
            "_view_module": "@jupyter-widgets/output",
            "_model_module_version": "1.0.0",
            "_view_count": null,
            "_view_module_version": "1.0.0",
            "layout": "IPY_MODEL_4a27bffb62744b22847debf75e4f89fb",
            "_model_module": "@jupyter-widgets/output"
          }
        },
        "ab056476e89c471683d1a3f1d69c0612": {
          "model_module": "@jupyter-widgets/controls",
          "model_name": "SliderStyleModel",
          "state": {
            "_view_name": "StyleView",
            "handle_color": null,
            "_model_name": "SliderStyleModel",
            "description_width": "",
            "_view_module": "@jupyter-widgets/base",
            "_model_module_version": "1.5.0",
            "_view_count": null,
            "_view_module_version": "1.2.0",
            "_model_module": "@jupyter-widgets/controls"
          }
        },
        "7001d74d395b4a28b1796f8886855b5a": {
          "model_module": "@jupyter-widgets/base",
          "model_name": "LayoutModel",
          "state": {
            "_view_name": "LayoutView",
            "grid_template_rows": null,
            "right": null,
            "justify_content": null,
            "_view_module": "@jupyter-widgets/base",
            "overflow": null,
            "_model_module_version": "1.2.0",
            "_view_count": null,
            "flex_flow": null,
            "width": null,
            "min_width": null,
            "border": null,
            "align_items": null,
            "bottom": null,
            "_model_module": "@jupyter-widgets/base",
            "top": null,
            "grid_column": null,
            "overflow_y": null,
            "overflow_x": null,
            "grid_auto_flow": null,
            "grid_area": null,
            "grid_template_columns": null,
            "flex": null,
            "_model_name": "LayoutModel",
            "justify_items": null,
            "grid_row": null,
            "max_height": null,
            "align_content": null,
            "visibility": null,
            "align_self": null,
            "height": null,
            "min_height": null,
            "padding": null,
            "grid_auto_rows": null,
            "grid_gap": null,
            "max_width": null,
            "order": null,
            "_view_module_version": "1.2.0",
            "grid_template_areas": null,
            "object_position": null,
            "object_fit": null,
            "grid_auto_columns": null,
            "margin": null,
            "display": null,
            "left": null
          }
        },
        "a269ea8725fd4564860ae4f08c05f064": {
          "model_module": "@jupyter-widgets/controls",
          "model_name": "SliderStyleModel",
          "state": {
            "_view_name": "StyleView",
            "handle_color": null,
            "_model_name": "SliderStyleModel",
            "description_width": "",
            "_view_module": "@jupyter-widgets/base",
            "_model_module_version": "1.5.0",
            "_view_count": null,
            "_view_module_version": "1.2.0",
            "_model_module": "@jupyter-widgets/controls"
          }
        },
        "99f75f5eb8b24adabc7d22a88cf8fe45": {
          "model_module": "@jupyter-widgets/base",
          "model_name": "LayoutModel",
          "state": {
            "_view_name": "LayoutView",
            "grid_template_rows": null,
            "right": null,
            "justify_content": null,
            "_view_module": "@jupyter-widgets/base",
            "overflow": null,
            "_model_module_version": "1.2.0",
            "_view_count": null,
            "flex_flow": null,
            "width": null,
            "min_width": null,
            "border": null,
            "align_items": null,
            "bottom": null,
            "_model_module": "@jupyter-widgets/base",
            "top": null,
            "grid_column": null,
            "overflow_y": null,
            "overflow_x": null,
            "grid_auto_flow": null,
            "grid_area": null,
            "grid_template_columns": null,
            "flex": null,
            "_model_name": "LayoutModel",
            "justify_items": null,
            "grid_row": null,
            "max_height": null,
            "align_content": null,
            "visibility": null,
            "align_self": null,
            "height": null,
            "min_height": null,
            "padding": null,
            "grid_auto_rows": null,
            "grid_gap": null,
            "max_width": null,
            "order": null,
            "_view_module_version": "1.2.0",
            "grid_template_areas": null,
            "object_position": null,
            "object_fit": null,
            "grid_auto_columns": null,
            "margin": null,
            "display": null,
            "left": null
          }
        },
        "4a27bffb62744b22847debf75e4f89fb": {
          "model_module": "@jupyter-widgets/base",
          "model_name": "LayoutModel",
          "state": {
            "_view_name": "LayoutView",
            "grid_template_rows": null,
            "right": null,
            "justify_content": null,
            "_view_module": "@jupyter-widgets/base",
            "overflow": null,
            "_model_module_version": "1.2.0",
            "_view_count": null,
            "flex_flow": null,
            "width": null,
            "min_width": null,
            "border": null,
            "align_items": null,
            "bottom": null,
            "_model_module": "@jupyter-widgets/base",
            "top": null,
            "grid_column": null,
            "overflow_y": null,
            "overflow_x": null,
            "grid_auto_flow": null,
            "grid_area": null,
            "grid_template_columns": null,
            "flex": null,
            "_model_name": "LayoutModel",
            "justify_items": null,
            "grid_row": null,
            "max_height": null,
            "align_content": null,
            "visibility": null,
            "align_self": null,
            "height": null,
            "min_height": null,
            "padding": null,
            "grid_auto_rows": null,
            "grid_gap": null,
            "max_width": null,
            "order": null,
            "_view_module_version": "1.2.0",
            "grid_template_areas": null,
            "object_position": null,
            "object_fit": null,
            "grid_auto_columns": null,
            "margin": null,
            "display": null,
            "left": null
          }
        }
      }
    }
  },
  "cells": [
    {
      "cell_type": "markdown",
      "metadata": {
        "id": "view-in-github",
        "colab_type": "text"
      },
      "source": [
        "<a href=\"https://colab.research.google.com/github/Tran-Thu-Le/ttlblog/blob/main/blogger/Widget.ipynb\" target=\"_parent\"><img src=\"https://colab.research.google.com/assets/colab-badge.svg\" alt=\"Open In Colab\"/></a>"
      ]
    },
    {
      "cell_type": "markdown",
      "metadata": {
        "id": "5fCEDCU_qrC0"
      },
      "source": [
        "<h1>Widget for blog using Python</h1>"
      ]
    },
    {
      "cell_type": "markdown",
      "metadata": {
        "id": "RyOiopv-uMYg"
      },
      "source": [
        "## Widget with `ipython`"
      ]
    },
    {
      "cell_type": "markdown",
      "metadata": {
        "id": "q6wJyVh1OY3t"
      },
      "source": [
        "For more information see: [widget](https://ipywidgets.readthedocs.io/en/stable/examples/Using%20Interact.html) and [embed](https://ipywidgets.readthedocs.io/en/stable/embedding.html)."
      ]
    },
    {
      "cell_type": "code",
      "metadata": {
        "id": "nrgP_uO7uLgJ"
      },
      "source": [
        "%matplotlib inline\r\n",
        "import numpy as np\r\n",
        "import matplotlib.pyplot as plt\r\n",
        "\r\n",
        "from __future__ import print_function\r\n",
        "from ipywidgets import interact, interactive, fixed, interact_manual\r\n",
        "import ipywidgets as widgets"
      ],
      "execution_count": 1,
      "outputs": []
    },
    {
      "cell_type": "code",
      "metadata": {
        "id": "agAkC3nMgJiJ"
      },
      "source": [
        "def f(center, width):\r\n",
        "    x=np.linspace(-5, 5, 100)\r\n",
        "    y=np.exp(-(x-center)**2/(width/2)**2)\r\n",
        "    plt.plot(x,y)\r\n",
        "    plt.show()"
      ],
      "execution_count": 16,
      "outputs": []
    },
    {
      "cell_type": "code",
      "metadata": {
        "id": "VfeQ3JG5gNJY",
        "outputId": "ad548086-f49b-4cff-bd3d-6f8b9e3f960f",
        "colab": {
          "base_uri": "https://localhost:8080/",
          "height": 346,
          "referenced_widgets": [
            "4137fde16a4348febe6c763cb36cf882",
            "4b205ad7aca64f9fbe02c1e5005c9af6",
            "cc35a979659543aea51bb78d0c3e92cc",
            "2b749238d22e491f883df3fcd2ce484f",
            "c67bb23df04746318445f514a7636b2e",
            "ab056476e89c471683d1a3f1d69c0612",
            "7001d74d395b4a28b1796f8886855b5a",
            "a269ea8725fd4564860ae4f08c05f064",
            "99f75f5eb8b24adabc7d22a88cf8fe45",
            "4a27bffb62744b22847debf75e4f89fb"
          ]
        }
      },
      "source": [
        "interact(f, center=(-5,5,0.5), width=(0,5,0.5))"
      ],
      "execution_count": 18,
      "outputs": [
        {
          "output_type": "display_data",
          "data": {
            "application/vnd.jupyter.widget-view+json": {
              "model_id": "4137fde16a4348febe6c763cb36cf882",
              "version_minor": 0,
              "version_major": 2
            },
            "text/plain": [
              "interactive(children=(FloatSlider(value=0.0, description='center', max=5.0, min=-5.0, step=0.5), FloatSlider(v…"
            ]
          },
          "metadata": {
            "tags": []
          }
        },
        {
          "output_type": "execute_result",
          "data": {
            "text/plain": [
              "<function __main__.f>"
            ]
          },
          "metadata": {
            "tags": []
          },
          "execution_count": 18
        }
      ]
    }
  ]
}