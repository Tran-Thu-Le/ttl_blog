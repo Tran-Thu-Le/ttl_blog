{
 "cells": [
  {
   "cell_type": "markdown",
   "metadata": {
    "colab_type": "text",
    "id": "view-in-github"
   },
   "source": [
    "<a href=\"https://colab.research.google.com/github/Tran-Thu-Le/demo/blob/main/run.ipynb\" target=\"_parent\"><img src=\"https://colab.research.google.com/assets/colab-badge.svg\" alt=\"Open In Colab\"/></a>"
   ]
  },
  {
   "cell_type": "markdown",
   "metadata": {},
   "source": [
    "# Blog with Jupyter Notebook\n",
    "\n",
    "With Jupyter, you may type math expression like  $e^{i\\pi}=−1$.\n",
    "\n",
    "Furthermore, you may even display a python code like this\n",
    "```python\n",
    "a=[i**2 for i in range(10)]\n",
    "print(a)\n",
    "```\n",
    "When you run this code in Jupyter, we will get the result below"
   ]
  },
  {
   "cell_type": "code",
   "execution_count": 1,
   "metadata": {},
   "outputs": [
    {
     "name": "stdout",
     "output_type": "stream",
     "text": [
      "[0, 1, 4, 9, 16, 25, 36, 49, 64, 81]\n"
     ]
    }
   ],
   "source": [
    "a=[i**2 for i in range(10)]\n",
    "print(a)"
   ]
  },
  {
   "cell_type": "markdown",
   "metadata": {},
   "source": [
    "Now assume that you already had Jupyter Notebook file. How can we post it in our Blog?\n",
    "The naive idea is to export it as an html file and then upload it to your website.\n",
    "But it will cause the problem in the size of the post and the website.\n",
    "The better way is to download the notebook as `.ipynb` file (IPython NoteBook). Then use the `nbconvert` (already have if you installed `conda`) as follows to change it to blog-html in `cmd`.\n",
    "```\n",
    "nbconvert -f blogger-html your_notebook.ipynb\n",
    "```"
   ]
  },
  {
   "cell_type": "code",
   "execution_count": null,
   "metadata": {},
   "outputs": [],
   "source": []
  }
 ],
 "metadata": {
  "colab": {
   "collapsed_sections": [
    "tmJ7Ok407FiL",
    "muip2f6h7FiP",
    "6H8I66SJ7FiR",
    "zDcj-hVD7FiV",
    "daFy7E337FiX",
    "uZV8_-ny7FiY",
    "kSjE5heg7FiZ",
    "E8ei5n4s7Fia"
   ],
   "include_colab_link": true,
   "name": "run.ipynb",
   "provenance": [],
   "toc_visible": true
  },
  "kernelspec": {
   "display_name": "Python 3",
   "language": "python",
   "name": "python3"
  },
  "language_info": {
   "codemirror_mode": {
    "name": "ipython",
    "version": 3
   },
   "file_extension": ".py",
   "mimetype": "text/x-python",
   "name": "python",
   "nbconvert_exporter": "python",
   "pygments_lexer": "ipython3",
   "version": "3.7.8"
  }
 },
 "nbformat": 4,
 "nbformat_minor": 1
}
